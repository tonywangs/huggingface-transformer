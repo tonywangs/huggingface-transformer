{
 "cells": [
  {
   "cell_type": "code",
   "execution_count": 1,
   "id": "f9444412-73e4-4b98-bcac-45da0edd6ccb",
   "metadata": {
    "tags": []
   },
   "outputs": [
    {
     "name": "stderr",
     "output_type": "stream",
     "text": [
      "/Users/tonywang/anaconda3/lib/python3.11/site-packages/transformers/utils/generic.py:260: UserWarning: torch.utils._pytree._register_pytree_node is deprecated. Please use torch.utils._pytree.register_pytree_node instead.\n",
      "  torch.utils._pytree._register_pytree_node(\n"
     ]
    }
   ],
   "source": [
    "from transformers import pipeline\n",
    "\n",
    "import pandas as pd \n",
    "from matplotlib import pyplot as plt \n",
    "import numpy as np"
   ]
  },
  {
   "cell_type": "code",
   "execution_count": 2,
   "id": "162c9386-94a7-4247-834d-f823ab4b3d65",
   "metadata": {
    "tags": []
   },
   "outputs": [
    {
     "data": {
      "text/html": [
       "<div>\n",
       "<style scoped>\n",
       "    .dataframe tbody tr th:only-of-type {\n",
       "        vertical-align: middle;\n",
       "    }\n",
       "\n",
       "    .dataframe tbody tr th {\n",
       "        vertical-align: top;\n",
       "    }\n",
       "\n",
       "    .dataframe thead th {\n",
       "        text-align: right;\n",
       "    }\n",
       "</style>\n",
       "<table border=\"1\" class=\"dataframe\">\n",
       "  <thead>\n",
       "    <tr style=\"text-align: right;\">\n",
       "      <th></th>\n",
       "      <th>Text</th>\n",
       "      <th>screenName</th>\n",
       "      <th>retweeted</th>\n",
       "    </tr>\n",
       "    <tr>\n",
       "      <th>Id</th>\n",
       "      <th></th>\n",
       "      <th></th>\n",
       "      <th></th>\n",
       "    </tr>\n",
       "  </thead>\n",
       "  <tbody>\n",
       "    <tr>\n",
       "      <th>1</th>\n",
       "      <td>RT @mrvelstan: literally nobody:\\nme:\\n\\n#Aven...</td>\n",
       "      <td>DavidAc96</td>\n",
       "      <td>637</td>\n",
       "    </tr>\n",
       "    <tr>\n",
       "      <th>2</th>\n",
       "      <td>RT @agntecarter: i’m emotional, sorry!!\\n\\n201...</td>\n",
       "      <td>NRmalaa</td>\n",
       "      <td>302</td>\n",
       "    </tr>\n",
       "    <tr>\n",
       "      <th>3</th>\n",
       "      <td>saving these bingo cards for tomorrow \\n©\\n #A...</td>\n",
       "      <td>jijitsuu</td>\n",
       "      <td>0</td>\n",
       "    </tr>\n",
       "    <tr>\n",
       "      <th>4</th>\n",
       "      <td>RT @HelloBoon: Man these #AvengersEndgame ads ...</td>\n",
       "      <td>SahapunB</td>\n",
       "      <td>23781</td>\n",
       "    </tr>\n",
       "    <tr>\n",
       "      <th>5</th>\n",
       "      <td>RT @Marvel: We salute you, @ChrisEvans! #Capta...</td>\n",
       "      <td>stella22_97</td>\n",
       "      <td>13067</td>\n",
       "    </tr>\n",
       "  </tbody>\n",
       "</table>\n",
       "</div>"
      ],
      "text/plain": [
       "                                                 Text   screenName  retweeted\n",
       "Id                                                                           \n",
       "1   RT @mrvelstan: literally nobody:\\nme:\\n\\n#Aven...    DavidAc96        637\n",
       "2   RT @agntecarter: i’m emotional, sorry!!\\n\\n201...      NRmalaa        302\n",
       "3   saving these bingo cards for tomorrow \\n©\\n #A...     jijitsuu          0\n",
       "4   RT @HelloBoon: Man these #AvengersEndgame ads ...     SahapunB      23781\n",
       "5   RT @Marvel: We salute you, @ChrisEvans! #Capta...  stella22_97      13067"
      ]
     },
     "execution_count": 2,
     "metadata": {},
     "output_type": "execute_result"
    }
   ],
   "source": [
    "df = pd.read_csv(\"tweets.csv\")\n",
    "df.set_index(\"Id\", inplace = True)\n",
    "df.head()"
   ]
  },
  {
   "cell_type": "code",
   "execution_count": 3,
   "id": "24e02254-b0c8-476e-bb2c-f4414c1e155b",
   "metadata": {
    "tags": []
   },
   "outputs": [
    {
     "name": "stderr",
     "output_type": "stream",
     "text": [
      "/Users/tonywang/anaconda3/lib/python3.11/site-packages/transformers/utils/generic.py:260: UserWarning: torch.utils._pytree._register_pytree_node is deprecated. Please use torch.utils._pytree.register_pytree_node instead.\n",
      "  torch.utils._pytree._register_pytree_node(\n"
     ]
    },
    {
     "name": "stdout",
     "output_type": "stream",
     "text": [
      "[{'label': 'NEGATIVE', 'score': 0.9994387030601501}]\n"
     ]
    }
   ],
   "source": [
    "# Sentiment analysis \n",
    "\n",
    "sentiment_analysis = pipeline(\"sentiment-analysis\", model = \"distilbert-base-uncased-finetuned-sst-2-english\")\n",
    "\n",
    "print(sentiment_analysis(df.loc[df.index[0], \"Text\"]))"
   ]
  },
  {
   "cell_type": "code",
   "execution_count": 4,
   "id": "615c68f3-e2f8-4bd6-ad86-8c7a1fc384fb",
   "metadata": {},
   "outputs": [
    {
     "name": "stdout",
     "output_type": "stream",
     "text": [
      "[13067, 3122, 349]\n"
     ]
    }
   ],
   "source": [
    "negative_sentiments = []\n",
    "positive_sentiments = [] \n",
    "\n",
    "sentiment = sentiment_analysis(df.loc[:, \"Text\"].tolist())\n",
    "\n",
    "for output, retweets in zip(sentiment, df.loc[:, 'retweeted'].tolist()):\n",
    "    if output['label'] == 'POSITIVE': \n",
    "        positive_sentiments.append(retweets)\n",
    "    else: \n",
    "        negative_sentiments.append(retweets)\n",
    "        \n",
    "print(positive_sentiments)"
   ]
  },
  {
   "cell_type": "code",
   "execution_count": 5,
   "id": "491e27b1-e1fb-4086-8ccd-277ccfbb6955",
   "metadata": {
    "tags": []
   },
   "outputs": [
    {
     "data": {
      "image/png": "[encoded data removed]",
      "text/plain": [
       "<Figure size 640x480 with 1 Axes>"
      ]
     },
     "metadata": {},
     "output_type": "display_data"
    }
   ],
   "source": [
    "fig, ax = plt.subplots()\n",
    "\n",
    "labels = [\"Negative\", \"Positive\"]\n",
    "averages = [np.average(negative_sentiments), np.average(positive_sentiments)]\n",
    "\n",
    "bar_labels = [\"Negative\", \"Positive\"]\n",
    "bar_colors = ['tab:red', 'tab:blue']\n",
    "\n",
    "ax.bar(labels, averages, label = bar_labels, color = bar_colors)\n",
    "\n",
    "ax.set_ylabel('Retweets')\n",
    "ax.legend(title = 'Sentiment')\n",
    "\n",
    "plt.show()"
   ]
  },
  {
   "cell_type": "code",
   "execution_count": 9,
   "id": "383d9e71-d787-433a-a0de-776361814d30",
   "metadata": {
    "tags": []
   },
   "outputs": [
    {
     "name": "stderr",
     "output_type": "stream",
     "text": [
      "No model was supplied, defaulted to facebook/bart-large-mnli and revision c626438 (https://huggingface.co/facebook/bart-large-mnli).\n",
      "Using a pipeline without specifying a model name and revision in production is not recommended.\n"
     ]
    },
    {
     "name": "stdout",
     "output_type": "stream",
     "text": [
      "{'advertisement': [12.848306261003017, 3.4148712791502476, 0.0, 7644.21664506197, 270.6029765289277, 15.259581376798451, 4.76458983309567, 127.17306121066213, 6.524746963754296, 7644.21664506197], 'critic': [146.48300729691982, 27.422050684690475, 0.0, 2214.439619399607, 471.5053932592273, 1438.11719083786, 25.40250564366579, 283.4479372128844, 141.4096218943596, 2214.439619399607], 'reaction': [477.66867220401764, 271.16307747364044, 0.0, 13922.34391272068, 12324.892433404922, 1668.6234095096588, 238.8329130411148, 5276.378938019276, 201.06563699245453, 13922.34391272068]}\n"
     ]
    }
   ],
   "source": [
    "# Category Analysis \n",
    "\n",
    "category_analysis = pipeline(\"zero-shot-classification\")\n",
    "\n",
    "labels = {\"advertisement\": [], \"critic\": [], \"reaction\": []}\n",
    "\n",
    "categories = category_analysis(df.loc[:, \"Text\"].tolist(), candidate_labels = list(labels.keys()))\n",
    "\n",
    "for output, retweets in zip(categories, df.loc[:, 'retweeted'].tolist()):\n",
    "    \n",
    "    for i in range(3): \n",
    "        labels[output['labels'][i]].append(output['scores'][i] * retweets)\n",
    "        \n",
    "print(labels)"
   ]
  },
  {
   "cell_type": "code",
   "execution_count": 15,
   "id": "cf94702f-43c2-48df-bde8-b0268db93da5",
   "metadata": {
    "tags": []
   },
   "outputs": [
    {
     "data": {
      "image/png": "[encoded data removed]",
      "text/plain": [
       "<Figure size 640x480 with 1 Axes>"
      ]
     },
     "metadata": {},
     "output_type": "display_data"
    }
   ],
   "source": [
    "fig, ax = plt.subplots()\n",
    "\n",
    "label_strs = list(labels.keys())\n",
    "averages = [np.average(labels[label]) for label in labels_strs]\n",
    "\n",
    "bar_colors = ['tab:purple', 'tab:green', 'tab:orange']\n",
    "\n",
    "ax.bar(label_strs, averages, label=label_strs, color = bar_colors)\n",
    "\n",
    "ax.set_ylabel('Retweets')\n",
    "ax.legend(title = 'Labels')\n",
    "\n",
    "plt.show()"
   ]
  }
 ],
 "metadata": {
  "kernelspec": {
   "display_name": "Python 3 (ipykernel)",
   "language": "python",
   "name": "python3"
  },
  "language_info": {
   "codemirror_mode": {
    "name": "ipython",
    "version": 3
   },
   "file_extension": ".py",
   "mimetype": "text/x-python",
   "name": "python",
   "nbconvert_exporter": "python",
   "pygments_lexer": "ipython3",
   "version": "3.11.3"
  }
 },
 "nbformat": 4,
 "nbformat_minor": 5
}
